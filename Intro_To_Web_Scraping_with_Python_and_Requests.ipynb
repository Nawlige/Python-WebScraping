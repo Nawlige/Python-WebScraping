{
 "cells": [
  {
   "cell_type": "markdown",
   "metadata": {},
   "source": [
    "## Import the Requests Library"
   ]
  },
  {
   "cell_type": "code",
   "execution_count": 1,
   "metadata": {},
   "outputs": [],
   "source": [
    "import requests as r"
   ]
  },
  {
   "cell_type": "markdown",
   "metadata": {},
   "source": [
    "Note the requests that are made in the subsequent sections are made to a very static web server hosting a Learning Website. \n",
    "You should be able to make the same general \"get\" calls and receive identical information."
   ]
  },
  {
   "cell_type": "markdown",
   "metadata": {},
   "source": [
    "### Our Intitial HTTP request"
   ]
  },
  {
   "cell_type": "code",
   "execution_count": 3,
   "metadata": {},
   "outputs": [
    {
     "name": "stdout",
     "output_type": "stream",
     "text": [
      "Hello from the web!\n",
      "\n"
     ]
    }
   ],
   "source": [
    "# Web Scraping \"Hello from the web!\"\n",
    "url = 'http://www.webscrapingfordatascience.com/basichttp/'\n",
    "req = r.get(url)\n",
    "print(req.text)"
   ]
  },
  {
   "cell_type": "markdown",
   "metadata": {},
   "source": [
    "### Notable Data Points returned with the HTTP Requests"
   ]
  },
  {
   "cell_type": "code",
   "execution_count": 8,
   "metadata": {},
   "outputs": [
    {
     "name": "stdout",
     "output_type": "stream",
     "text": [
      "200\n"
     ]
    }
   ],
   "source": [
    "# Which HTTP status code did we get back from the server?\n",
    "print(req.status_code)"
   ]
  },
  {
   "cell_type": "code",
   "execution_count": 9,
   "metadata": {},
   "outputs": [
    {
     "name": "stdout",
     "output_type": "stream",
     "text": [
      "OK\n"
     ]
    }
   ],
   "source": [
    "# What is the textual status code?\n",
    "print(req.reason)"
   ]
  },
  {
   "cell_type": "code",
   "execution_count": 10,
   "metadata": {},
   "outputs": [
    {
     "name": "stdout",
     "output_type": "stream",
     "text": [
      "{'Date': 'Mon, 08 Oct 2018 20:42:33 GMT', 'Server': 'Apache/2.4.18 (Ubuntu)', 'Content-Length': '20', 'Keep-Alive': 'timeout=5, max=100', 'Connection': 'Keep-Alive', 'Content-Type': 'text/html; charset=UTF-8'}\n"
     ]
    }
   ],
   "source": [
    "# What were the HTTP response headers? \n",
    "print(req.headers)"
   ]
  },
  {
   "cell_type": "code",
   "execution_count": 12,
   "metadata": {},
   "outputs": [
    {
     "name": "stdout",
     "output_type": "stream",
     "text": [
      "<PreparedRequest [GET]>\n"
     ]
    }
   ],
   "source": [
    "# The request information is saved as a Python object in req.requests\n",
    "print(req.request)"
   ]
  },
  {
   "cell_type": "code",
   "execution_count": 19,
   "metadata": {},
   "outputs": [
    {
     "name": "stdout",
     "output_type": "stream",
     "text": [
      "http://www.webscrapingfordatascience.com/basichttp/\n"
     ]
    }
   ],
   "source": [
    "# Returns the Requested URL\n",
    "print(req.request.url)"
   ]
  },
  {
   "cell_type": "code",
   "execution_count": 14,
   "metadata": {},
   "outputs": [
    {
     "name": "stdout",
     "output_type": "stream",
     "text": [
      "{'User-Agent': 'python-requests/2.19.1', 'Accept-Encoding': 'gzip, deflate', 'Accept': '*/*', 'Connection': 'keep-alive'}\n"
     ]
    }
   ],
   "source": [
    "# What were the HTTP requests headers?\n",
    "print(req.request.headers)"
   ]
  },
  {
   "cell_type": "code",
   "execution_count": 15,
   "metadata": {},
   "outputs": [
    {
     "name": "stdout",
     "output_type": "stream",
     "text": [
      "Hello from the web!\n",
      "\n"
     ]
    }
   ],
   "source": [
    "# The HTTP response content. \n",
    "print(req.text)"
   ]
  },
  {
   "cell_type": "markdown",
   "metadata": {},
   "source": [
    "### Attempting to make a request to a website that uses parameters"
   ]
  },
  {
   "cell_type": "code",
   "execution_count": 16,
   "metadata": {},
   "outputs": [
    {
     "name": "stdout",
     "output_type": "stream",
     "text": [
      "Please provide a \"query\" parameter\n"
     ]
    }
   ],
   "source": [
    "url2 = 'http://webscrapingfordatascience.com/paramhttp/'\n",
    "req2 = r.get(url2)\n",
    "print(req2.text)"
   ]
  },
  {
   "cell_type": "markdown",
   "metadata": {},
   "source": [
    "### Passing the 'test' parameter within the url request"
   ]
  },
  {
   "cell_type": "code",
   "execution_count": 17,
   "metadata": {},
   "outputs": [
    {
     "name": "stdout",
     "output_type": "stream",
     "text": [
      "I don't have any information on \"test\"\n"
     ]
    }
   ],
   "source": [
    "url3 = 'http://webscrapingfordatascience.com/paramhttp/?query=test'\n",
    "req3 = r.get(url3)\n",
    "print(req3.text)"
   ]
  },
  {
   "cell_type": "markdown",
   "metadata": {},
   "source": [
    "The Request library will attempt encode some special charachters for you i.e spaces"
   ]
  },
  {
   "cell_type": "code",
   "execution_count": 23,
   "metadata": {},
   "outputs": [
    {
     "name": "stdout",
     "output_type": "stream",
     "text": [
      "http://www.webscrapingfordatascience.com/paramhttp/?query=a%20query%20with%20spaces\n"
     ]
    }
   ],
   "source": [
    "#Get request with white spaces passed into the parameter section\n",
    "\n",
    "url4 = 'http://www.webscrapingfordatascience.com/paramhttp/?query=a query with spaces'\n",
    "req4 = r.get(url4)\n",
    "# Parameter will be encoded as 'a%20query%20with%20spaces'\n",
    "\n",
    "# You can verify this by looking at the prepared request URL:\n",
    "print(req4.request.url)\n",
    "# Will show [...]/paramhttp/?query=a%20query%20with%20spaces"
   ]
  },
  {
   "cell_type": "code",
   "execution_count": 21,
   "metadata": {},
   "outputs": [
    {
     "name": "stdout",
     "output_type": "stream",
     "text": [
      "I don't have any information on \"a query with spaces\"\n"
     ]
    }
   ],
   "source": [
    "print(req4.text)\n",
    "# Will show: I don't have any information on \"a query with spaces\""
   ]
  },
  {
   "cell_type": "markdown",
   "metadata": {},
   "source": [
    "Sometimes Request is not able to encode the charachters, in this instance they will be passed direclty with the url."
   ]
  },
  {
   "cell_type": "code",
   "execution_count": 28,
   "metadata": {},
   "outputs": [],
   "source": [
    "url5 = 'http://www.webscrapingfordatascience.com/paramhttp/?query=complex?&'\n",
    "req5 = r.get(url5)\n",
    "\n",
    "#the '&' charachter will be dropped by the responding web server"
   ]
  },
  {
   "cell_type": "code",
   "execution_count": 29,
   "metadata": {},
   "outputs": [
    {
     "name": "stdout",
     "output_type": "stream",
     "text": [
      "http://www.webscrapingfordatascience.com/paramhttp/?query=complex?&\n"
     ]
    }
   ],
   "source": [
    "print(req5.request.url)"
   ]
  },
  {
   "cell_type": "code",
   "execution_count": 30,
   "metadata": {},
   "outputs": [
    {
     "name": "stdout",
     "output_type": "stream",
     "text": [
      "I don't have any information on \"complex?\"\n"
     ]
    }
   ],
   "source": [
    "print(req5.text)"
   ]
  },
  {
   "cell_type": "markdown",
   "metadata": {},
   "source": [
    "### You can attempt to avoid encoding errors by using the quote & quote_plus functions. They are included in the urllib.parse library. "
   ]
  },
  {
   "cell_type": "markdown",
   "metadata": {},
   "source": [
    "quote: replaces spaces with encoded charachters using the '%XX' format. (i.e. '=' is %3D, ' ' is %20 and so on...) "
   ]
  },
  {
   "cell_type": "markdown",
   "metadata": {},
   "source": [
    "quote_plus: replace spaces with (+) and sepcial characters using the '%XX' format (generaly used for query strings)"
   ]
  },
  {
   "cell_type": "code",
   "execution_count": 31,
   "metadata": {},
   "outputs": [],
   "source": [
    "from urllib.parse import quote, quote_plus"
   ]
  },
  {
   "cell_type": "code",
   "execution_count": 34,
   "metadata": {},
   "outputs": [
    {
     "name": "stdout",
     "output_type": "stream",
     "text": [
      "a%20string%20/%20value%20%3Fwith%20%26%20spaces%20%3Dand%20characters\n",
      "a+string+%2F+value+%3Fwith+%26+spaces+%3Dand+characters\n"
     ]
    }
   ],
   "source": [
    "raw_string_value = 'a string / value ?with & spaces =and characters'\n",
    "\n",
    "print(quote(raw_string_value))\n",
    "print(quote_plus(raw_string_value))"
   ]
  },
  {
   "cell_type": "code",
   "execution_count": null,
   "metadata": {},
   "outputs": [],
   "source": []
  }
 ],
 "metadata": {
  "kernelspec": {
   "display_name": "Python 3",
   "language": "python",
   "name": "python3"
  },
  "language_info": {
   "codemirror_mode": {
    "name": "ipython",
    "version": 3
   },
   "file_extension": ".py",
   "mimetype": "text/x-python",
   "name": "python",
   "nbconvert_exporter": "python",
   "pygments_lexer": "ipython3",
   "version": "3.7.0"
  }
 },
 "nbformat": 4,
 "nbformat_minor": 2
}
